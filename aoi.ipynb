{
 "cells": [
  {
   "cell_type": "code",
   "execution_count": 1,
   "id": "72c0910f",
   "metadata": {},
   "outputs": [],
   "source": [
    "import numpy as np\n",
    "import pandas as pd\n",
    "from tensorflow import keras\n",
    "from tensorflow.keras import layers\n",
    "from keras.preprocessing import image\n",
    "from keras.preprocessing.image import load_img,img_to_array\n",
    "from matplotlib import pyplot as plt\n",
    "from tqdm import tqdm\n",
    "from sklearn.model_selection import train_test_split\n"
   ]
  },
  {
   "cell_type": "code",
   "execution_count": 2,
   "id": "dbb65c16",
   "metadata": {},
   "outputs": [],
   "source": [
    "train = pd.read_csv('train.csv')\n",
    "y = train.Label"
   ]
  },
  {
   "cell_type": "code",
   "execution_count": 4,
   "id": "40171da2",
   "metadata": {},
   "outputs": [
    {
     "data": {
      "text/html": [
       "<div>\n",
       "<style scoped>\n",
       "    .dataframe tbody tr th:only-of-type {\n",
       "        vertical-align: middle;\n",
       "    }\n",
       "\n",
       "    .dataframe tbody tr th {\n",
       "        vertical-align: top;\n",
       "    }\n",
       "\n",
       "    .dataframe thead th {\n",
       "        text-align: right;\n",
       "    }\n",
       "</style>\n",
       "<table border=\"1\" class=\"dataframe\">\n",
       "  <thead>\n",
       "    <tr style=\"text-align: right;\">\n",
       "      <th></th>\n",
       "      <th>ID</th>\n",
       "      <th>Label</th>\n",
       "    </tr>\n",
       "  </thead>\n",
       "  <tbody>\n",
       "    <tr>\n",
       "      <th>0</th>\n",
       "      <td>train_00000.png</td>\n",
       "      <td>0</td>\n",
       "    </tr>\n",
       "    <tr>\n",
       "      <th>1</th>\n",
       "      <td>train_00001.png</td>\n",
       "      <td>1</td>\n",
       "    </tr>\n",
       "    <tr>\n",
       "      <th>2</th>\n",
       "      <td>train_00002.png</td>\n",
       "      <td>1</td>\n",
       "    </tr>\n",
       "    <tr>\n",
       "      <th>3</th>\n",
       "      <td>train_00003.png</td>\n",
       "      <td>5</td>\n",
       "    </tr>\n",
       "    <tr>\n",
       "      <th>4</th>\n",
       "      <td>train_00004.png</td>\n",
       "      <td>5</td>\n",
       "    </tr>\n",
       "    <tr>\n",
       "      <th>...</th>\n",
       "      <td>...</td>\n",
       "      <td>...</td>\n",
       "    </tr>\n",
       "    <tr>\n",
       "      <th>2523</th>\n",
       "      <td>train_02523.png</td>\n",
       "      <td>0</td>\n",
       "    </tr>\n",
       "    <tr>\n",
       "      <th>2524</th>\n",
       "      <td>train_02524.png</td>\n",
       "      <td>0</td>\n",
       "    </tr>\n",
       "    <tr>\n",
       "      <th>2525</th>\n",
       "      <td>train_02525.png</td>\n",
       "      <td>3</td>\n",
       "    </tr>\n",
       "    <tr>\n",
       "      <th>2526</th>\n",
       "      <td>train_02526.png</td>\n",
       "      <td>0</td>\n",
       "    </tr>\n",
       "    <tr>\n",
       "      <th>2527</th>\n",
       "      <td>train_02527.png</td>\n",
       "      <td>5</td>\n",
       "    </tr>\n",
       "  </tbody>\n",
       "</table>\n",
       "<p>2528 rows × 2 columns</p>\n",
       "</div>"
      ],
      "text/plain": [
       "                   ID  Label\n",
       "0     train_00000.png      0\n",
       "1     train_00001.png      1\n",
       "2     train_00002.png      1\n",
       "3     train_00003.png      5\n",
       "4     train_00004.png      5\n",
       "...               ...    ...\n",
       "2523  train_02523.png      0\n",
       "2524  train_02524.png      0\n",
       "2525  train_02525.png      3\n",
       "2526  train_02526.png      0\n",
       "2527  train_02527.png      5\n",
       "\n",
       "[2528 rows x 2 columns]"
      ]
     },
     "execution_count": 4,
     "metadata": {},
     "output_type": "execute_result"
    }
   ],
   "source": [
    "train"
   ]
  },
  {
   "cell_type": "code",
   "execution_count": 39,
   "id": "735d6a3f",
   "metadata": {},
   "outputs": [
    {
     "name": "stderr",
     "output_type": "stream",
     "text": [
      "  0%|                                                                                         | 0/2528 [00:00<?, ?it/s]C:\\Users\\HHW\\miniconda3\\lib\\site-packages\\keras_preprocessing\\image\\utils.py:107: UserWarning: grayscale is deprecated. Please use color_mode = \"grayscale\"\n",
      "  warnings.warn('grayscale is deprecated. Please use '\n",
      "100%|█████████████████████████████████████████████████████████████████████████████| 2528/2528 [00:08<00:00, 285.27it/s]\n"
     ]
    }
   ],
   "source": [
    "#從image folder取出image\n",
    "train_image = [ ]\n",
    "for i in tqdm(range(train.shape[0])):\n",
    "    img = image.load_img('train_images/'+train['ID'][i], target_size=(100,100,1), \n",
    "            grayscale=True)\n",
    "    img = image.img_to_array(img)\n",
    "    img = img/255\n",
    "    train_image.append(img)"
   ]
  },
  {
   "cell_type": "code",
   "execution_count": 40,
   "id": "fde5a15a",
   "metadata": {},
   "outputs": [],
   "source": [
    "X = np.array(train_image)"
   ]
  },
  {
   "cell_type": "code",
   "execution_count": 41,
   "id": "402df8dc",
   "metadata": {},
   "outputs": [],
   "source": [
    "X_train,X_test,y_train,y_test = train_test_split(X,y,test_size=0.3)"
   ]
  },
  {
   "cell_type": "code",
   "execution_count": 42,
   "id": "e9c32b14",
   "metadata": {},
   "outputs": [
    {
     "data": {
      "text/plain": [
       "(1769, 100, 100, 1)"
      ]
     },
     "execution_count": 42,
     "metadata": {},
     "output_type": "execute_result"
    }
   ],
   "source": [
    "X_train.shape"
   ]
  },
  {
   "cell_type": "code",
   "execution_count": 43,
   "id": "52c29e92",
   "metadata": {},
   "outputs": [],
   "source": [
    "#建立CNN model\n",
    "model = keras.Sequential(name='CNNNetwork')\n",
    "model.add(layers.Conv2D(filters = 32,\n",
    "                        kernel_size = (2,2),\n",
    "                        activation ='relu',\n",
    "                        input_shape=(100,100,1)))\n",
    "          \n",
    "model.add(layers.MaxPool2D(2,2))\n",
    "\n",
    "model.add(layers.Conv2D(filters = 128,\n",
    "                        kernel_size = (2,2),\n",
    "                        activation ='relu'))\n",
    "model.add(layers.MaxPool2D(2,2))\n",
    "\n",
    "model.add(layers.Conv2D(filters = 128,\n",
    "                        kernel_size = (2,2),\n",
    "                        activation ='relu'))\n",
    "model.add(layers.MaxPool2D(2,2))\n",
    "\n",
    "model.add(layers.Conv2D(filters = 64,\n",
    "                        kernel_size = (2,2),\n",
    "                        activation ='relu'))\n",
    "model.add(layers.MaxPool2D(2,2))\n",
    "\n",
    "\n",
    "model.add(layers.Flatten())\n",
    "model.add(layers.Dense(128,activation='relu'))\n",
    "model.add(layers.Dropout(0.5))\n",
    "model.add(layers.Dense(64,activation='relu'))\n",
    "model.add(layers.Dropout(0.25))\n",
    "model.add(layers.Dense(10,activation='softmax'))\n"
   ]
  },
  {
   "cell_type": "code",
   "execution_count": 44,
   "id": "8caa0405",
   "metadata": {},
   "outputs": [
    {
     "name": "stdout",
     "output_type": "stream",
     "text": [
      "Model: \"CNNNetwork\"\n",
      "_________________________________________________________________\n",
      " Layer (type)                Output Shape              Param #   \n",
      "=================================================================\n",
      " conv2d_8 (Conv2D)           (None, 99, 99, 32)        160       \n",
      "                                                                 \n",
      " max_pooling2d_8 (MaxPooling  (None, 49, 49, 32)       0         \n",
      " 2D)                                                             \n",
      "                                                                 \n",
      " conv2d_9 (Conv2D)           (None, 48, 48, 128)       16512     \n",
      "                                                                 \n",
      " max_pooling2d_9 (MaxPooling  (None, 24, 24, 128)      0         \n",
      " 2D)                                                             \n",
      "                                                                 \n",
      " conv2d_10 (Conv2D)          (None, 23, 23, 128)       65664     \n",
      "                                                                 \n",
      " max_pooling2d_10 (MaxPoolin  (None, 11, 11, 128)      0         \n",
      " g2D)                                                            \n",
      "                                                                 \n",
      " conv2d_11 (Conv2D)          (None, 10, 10, 64)        32832     \n",
      "                                                                 \n",
      " max_pooling2d_11 (MaxPoolin  (None, 5, 5, 64)         0         \n",
      " g2D)                                                            \n",
      "                                                                 \n",
      " flatten_2 (Flatten)         (None, 1600)              0         \n",
      "                                                                 \n",
      " dense_6 (Dense)             (None, 128)               204928    \n",
      "                                                                 \n",
      " dropout_5 (Dropout)         (None, 128)               0         \n",
      "                                                                 \n",
      " dense_7 (Dense)             (None, 64)                8256      \n",
      "                                                                 \n",
      " dropout_6 (Dropout)         (None, 64)                0         \n",
      "                                                                 \n",
      " dense_8 (Dense)             (None, 10)                650       \n",
      "                                                                 \n",
      "=================================================================\n",
      "Total params: 329,002\n",
      "Trainable params: 329,002\n",
      "Non-trainable params: 0\n",
      "_________________________________________________________________\n",
      "None\n"
     ]
    }
   ],
   "source": [
    "print(model.summary())"
   ]
  },
  {
   "cell_type": "code",
   "execution_count": 45,
   "id": "2279bcc5",
   "metadata": {},
   "outputs": [],
   "source": [
    "model.compile(optimizer = 'Adam',\n",
    "             loss = keras.losses.sparse_categorical_crossentropy,\n",
    "             metrics = ['accuracy'])"
   ]
  },
  {
   "cell_type": "code",
   "execution_count": 46,
   "id": "c681a06e",
   "metadata": {},
   "outputs": [
    {
     "name": "stdout",
     "output_type": "stream",
     "text": [
      "Epoch 1/100\n",
      "45/45 - 10s - loss: 1.9800 - accuracy: 0.2184 - val_loss: 1.6963 - val_accuracy: 0.2712 - 10s/epoch - 221ms/step\n",
      "Epoch 2/100\n",
      "45/45 - 9s - loss: 1.7982 - accuracy: 0.2375 - val_loss: 1.6332 - val_accuracy: 0.2712 - 9s/epoch - 208ms/step\n",
      "Epoch 3/100\n",
      "45/45 - 9s - loss: 1.7044 - accuracy: 0.2926 - val_loss: 1.4230 - val_accuracy: 0.4040 - 9s/epoch - 208ms/step\n",
      "Epoch 4/100\n",
      "45/45 - 9s - loss: 1.4354 - accuracy: 0.4184 - val_loss: 1.2136 - val_accuracy: 0.5876 - 9s/epoch - 208ms/step\n",
      "Epoch 5/100\n",
      "45/45 - 9s - loss: 1.3510 - accuracy: 0.4247 - val_loss: 1.1045 - val_accuracy: 0.5876 - 9s/epoch - 209ms/step\n",
      "Epoch 6/100\n",
      "45/45 - 10s - loss: 1.2384 - accuracy: 0.4855 - val_loss: 1.0700 - val_accuracy: 0.5847 - 10s/epoch - 211ms/step\n",
      "Epoch 7/100\n",
      "45/45 - 9s - loss: 1.1998 - accuracy: 0.5159 - val_loss: 1.0132 - val_accuracy: 0.6045 - 9s/epoch - 211ms/step\n",
      "Epoch 8/100\n",
      "45/45 - 9s - loss: 1.1702 - accuracy: 0.5385 - val_loss: 1.0414 - val_accuracy: 0.6017 - 9s/epoch - 211ms/step\n",
      "Epoch 9/100\n",
      "45/45 - 10s - loss: 1.1180 - accuracy: 0.5583 - val_loss: 1.0174 - val_accuracy: 0.6158 - 10s/epoch - 214ms/step\n",
      "Epoch 10/100\n",
      "45/45 - 10s - loss: 1.1189 - accuracy: 0.5661 - val_loss: 0.9669 - val_accuracy: 0.6158 - 10s/epoch - 215ms/step\n",
      "Epoch 11/100\n",
      "45/45 - 10s - loss: 1.0045 - accuracy: 0.6212 - val_loss: 0.8391 - val_accuracy: 0.7062 - 10s/epoch - 216ms/step\n",
      "Epoch 12/100\n",
      "45/45 - 10s - loss: 0.9698 - accuracy: 0.6558 - val_loss: 0.8458 - val_accuracy: 0.6780 - 10s/epoch - 217ms/step\n",
      "Epoch 13/100\n",
      "45/45 - 10s - loss: 0.9689 - accuracy: 0.6445 - val_loss: 0.7794 - val_accuracy: 0.6921 - 10s/epoch - 215ms/step\n",
      "Epoch 14/100\n",
      "45/45 - 10s - loss: 0.8888 - accuracy: 0.6735 - val_loss: 0.7200 - val_accuracy: 0.7260 - 10s/epoch - 215ms/step\n",
      "Epoch 15/100\n",
      "45/45 - 10s - loss: 0.7761 - accuracy: 0.7208 - val_loss: 0.6814 - val_accuracy: 0.7373 - 10s/epoch - 214ms/step\n",
      "Epoch 16/100\n",
      "45/45 - 10s - loss: 0.8160 - accuracy: 0.7102 - val_loss: 0.6718 - val_accuracy: 0.7514 - 10s/epoch - 214ms/step\n",
      "Epoch 17/100\n",
      "45/45 - 10s - loss: 0.7431 - accuracy: 0.7428 - val_loss: 0.6889 - val_accuracy: 0.7345 - 10s/epoch - 213ms/step\n",
      "Epoch 18/100\n",
      "45/45 - 10s - loss: 0.7176 - accuracy: 0.7527 - val_loss: 0.5790 - val_accuracy: 0.7797 - 10s/epoch - 214ms/step\n",
      "Epoch 19/100\n",
      "45/45 - 10s - loss: 0.6796 - accuracy: 0.7661 - val_loss: 0.5632 - val_accuracy: 0.7740 - 10s/epoch - 213ms/step\n",
      "Epoch 20/100\n",
      "45/45 - 10s - loss: 0.6484 - accuracy: 0.7781 - val_loss: 0.5793 - val_accuracy: 0.7853 - 10s/epoch - 214ms/step\n",
      "Epoch 21/100\n",
      "45/45 - 10s - loss: 0.6408 - accuracy: 0.7682 - val_loss: 0.5348 - val_accuracy: 0.7910 - 10s/epoch - 215ms/step\n",
      "Epoch 22/100\n",
      "45/45 - 10s - loss: 0.6092 - accuracy: 0.7823 - val_loss: 0.5034 - val_accuracy: 0.8136 - 10s/epoch - 216ms/step\n",
      "Epoch 23/100\n",
      "45/45 - 10s - loss: 0.5820 - accuracy: 0.7986 - val_loss: 0.5705 - val_accuracy: 0.8333 - 10s/epoch - 215ms/step\n",
      "Epoch 24/100\n",
      "45/45 - 10s - loss: 0.5185 - accuracy: 0.8191 - val_loss: 0.4521 - val_accuracy: 0.8390 - 10s/epoch - 214ms/step\n",
      "Epoch 25/100\n",
      "45/45 - 10s - loss: 0.5620 - accuracy: 0.8078 - val_loss: 0.4512 - val_accuracy: 0.8305 - 10s/epoch - 215ms/step\n",
      "Epoch 26/100\n",
      "45/45 - 10s - loss: 0.5085 - accuracy: 0.8247 - val_loss: 0.4552 - val_accuracy: 0.8701 - 10s/epoch - 215ms/step\n",
      "Epoch 27/100\n",
      "45/45 - 10s - loss: 0.4815 - accuracy: 0.8325 - val_loss: 0.3650 - val_accuracy: 0.8870 - 10s/epoch - 215ms/step\n",
      "Epoch 28/100\n",
      "45/45 - 10s - loss: 0.4425 - accuracy: 0.8459 - val_loss: 0.3850 - val_accuracy: 0.8672 - 10s/epoch - 215ms/step\n",
      "Epoch 29/100\n",
      "45/45 - 10s - loss: 0.4255 - accuracy: 0.8551 - val_loss: 0.3304 - val_accuracy: 0.8983 - 10s/epoch - 215ms/step\n",
      "Epoch 30/100\n",
      "45/45 - 10s - loss: 0.4544 - accuracy: 0.8431 - val_loss: 0.4228 - val_accuracy: 0.8616 - 10s/epoch - 212ms/step\n",
      "Epoch 31/100\n",
      "45/45 - 10s - loss: 0.4052 - accuracy: 0.8629 - val_loss: 0.4395 - val_accuracy: 0.8531 - 10s/epoch - 213ms/step\n",
      "Epoch 32/100\n",
      "45/45 - 10s - loss: 0.4262 - accuracy: 0.8502 - val_loss: 0.3427 - val_accuracy: 0.8983 - 10s/epoch - 213ms/step\n",
      "Epoch 33/100\n",
      "45/45 - 10s - loss: 0.3658 - accuracy: 0.8671 - val_loss: 0.2950 - val_accuracy: 0.8898 - 10s/epoch - 215ms/step\n",
      "Epoch 34/100\n",
      "45/45 - 10s - loss: 0.3759 - accuracy: 0.8721 - val_loss: 0.3077 - val_accuracy: 0.8814 - 10s/epoch - 215ms/step\n",
      "Epoch 35/100\n",
      "45/45 - 10s - loss: 0.3284 - accuracy: 0.8862 - val_loss: 0.3054 - val_accuracy: 0.8983 - 10s/epoch - 215ms/step\n",
      "Epoch 36/100\n",
      "45/45 - 10s - loss: 0.3400 - accuracy: 0.8799 - val_loss: 0.3161 - val_accuracy: 0.8927 - 10s/epoch - 213ms/step\n",
      "Epoch 37/100\n",
      "45/45 - 10s - loss: 0.4036 - accuracy: 0.8558 - val_loss: 0.2618 - val_accuracy: 0.9068 - 10s/epoch - 217ms/step\n",
      "Epoch 38/100\n",
      "45/45 - 10s - loss: 0.2976 - accuracy: 0.8862 - val_loss: 0.3650 - val_accuracy: 0.8672 - 10s/epoch - 213ms/step\n",
      "Epoch 39/100\n",
      "45/45 - 10s - loss: 0.4171 - accuracy: 0.8671 - val_loss: 0.3193 - val_accuracy: 0.8898 - 10s/epoch - 218ms/step\n",
      "Epoch 40/100\n",
      "45/45 - 10s - loss: 0.2986 - accuracy: 0.8926 - val_loss: 0.2436 - val_accuracy: 0.9237 - 10s/epoch - 218ms/step\n",
      "Epoch 41/100\n",
      "45/45 - 10s - loss: 0.2591 - accuracy: 0.9032 - val_loss: 0.2317 - val_accuracy: 0.9294 - 10s/epoch - 213ms/step\n",
      "Epoch 42/100\n",
      "45/45 - 10s - loss: 0.2737 - accuracy: 0.9060 - val_loss: 0.2797 - val_accuracy: 0.9068 - 10s/epoch - 212ms/step\n",
      "Epoch 43/100\n",
      "45/45 - 10s - loss: 0.2664 - accuracy: 0.9124 - val_loss: 0.1928 - val_accuracy: 0.9492 - 10s/epoch - 222ms/step\n",
      "Epoch 44/100\n",
      "45/45 - 10s - loss: 0.3057 - accuracy: 0.8926 - val_loss: 0.3794 - val_accuracy: 0.8616 - 10s/epoch - 229ms/step\n",
      "Epoch 45/100\n",
      "45/45 - 10s - loss: 0.3192 - accuracy: 0.8890 - val_loss: 0.1865 - val_accuracy: 0.9407 - 10s/epoch - 215ms/step\n",
      "Epoch 46/100\n",
      "45/45 - 10s - loss: 0.2326 - accuracy: 0.9216 - val_loss: 0.1693 - val_accuracy: 0.9576 - 10s/epoch - 215ms/step\n",
      "Epoch 47/100\n",
      "45/45 - 10s - loss: 0.2117 - accuracy: 0.9322 - val_loss: 0.1738 - val_accuracy: 0.9492 - 10s/epoch - 215ms/step\n",
      "Epoch 48/100\n",
      "45/45 - 10s - loss: 0.1805 - accuracy: 0.9364 - val_loss: 0.1246 - val_accuracy: 0.9633 - 10s/epoch - 220ms/step\n",
      "Epoch 49/100\n",
      "45/45 - 10s - loss: 0.2330 - accuracy: 0.9237 - val_loss: 0.1828 - val_accuracy: 0.9294 - 10s/epoch - 214ms/step\n",
      "Epoch 50/100\n",
      "45/45 - 10s - loss: 0.1900 - accuracy: 0.9364 - val_loss: 0.1683 - val_accuracy: 0.9492 - 10s/epoch - 215ms/step\n",
      "Epoch 51/100\n",
      "45/45 - 10s - loss: 0.1686 - accuracy: 0.9477 - val_loss: 0.1517 - val_accuracy: 0.9661 - 10s/epoch - 216ms/step\n",
      "Epoch 52/100\n",
      "45/45 - 10s - loss: 0.1483 - accuracy: 0.9470 - val_loss: 0.1389 - val_accuracy: 0.9718 - 10s/epoch - 223ms/step\n",
      "Epoch 53/100\n",
      "45/45 - 10s - loss: 0.1662 - accuracy: 0.9456 - val_loss: 0.1652 - val_accuracy: 0.9689 - 10s/epoch - 221ms/step\n",
      "Epoch 54/100\n",
      "45/45 - 10s - loss: 0.1775 - accuracy: 0.9350 - val_loss: 0.2086 - val_accuracy: 0.9463 - 10s/epoch - 216ms/step\n",
      "Epoch 55/100\n",
      "45/45 - 10s - loss: 0.1975 - accuracy: 0.9314 - val_loss: 0.1230 - val_accuracy: 0.9689 - 10s/epoch - 215ms/step\n",
      "Epoch 56/100\n",
      "45/45 - 10s - loss: 0.1744 - accuracy: 0.9378 - val_loss: 0.1697 - val_accuracy: 0.9605 - 10s/epoch - 216ms/step\n",
      "Epoch 57/100\n",
      "45/45 - 10s - loss: 0.1710 - accuracy: 0.9413 - val_loss: 0.2604 - val_accuracy: 0.9011 - 10s/epoch - 215ms/step\n",
      "Epoch 58/100\n",
      "45/45 - 10s - loss: 0.1651 - accuracy: 0.9428 - val_loss: 0.1246 - val_accuracy: 0.9689 - 10s/epoch - 213ms/step\n",
      "Epoch 59/100\n",
      "45/45 - 10s - loss: 0.1421 - accuracy: 0.9527 - val_loss: 0.1103 - val_accuracy: 0.9689 - 10s/epoch - 217ms/step\n",
      "Epoch 60/100\n",
      "45/45 - 11s - loss: 0.1675 - accuracy: 0.9484 - val_loss: 0.1449 - val_accuracy: 0.9689 - 11s/epoch - 248ms/step\n",
      "Epoch 61/100\n",
      "45/45 - 11s - loss: 0.1383 - accuracy: 0.9512 - val_loss: 0.1491 - val_accuracy: 0.9689 - 11s/epoch - 238ms/step\n",
      "Epoch 62/100\n",
      "45/45 - 10s - loss: 0.1958 - accuracy: 0.9399 - val_loss: 0.1709 - val_accuracy: 0.9520 - 10s/epoch - 229ms/step\n",
      "Epoch 63/100\n",
      "45/45 - 9s - loss: 0.1528 - accuracy: 0.9512 - val_loss: 0.2126 - val_accuracy: 0.9435 - 9s/epoch - 211ms/step\n",
      "Epoch 64/100\n",
      "45/45 - 10s - loss: 0.1468 - accuracy: 0.9470 - val_loss: 0.1250 - val_accuracy: 0.9718 - 10s/epoch - 216ms/step\n",
      "Epoch 65/100\n",
      "45/45 - 10s - loss: 0.1449 - accuracy: 0.9548 - val_loss: 0.1221 - val_accuracy: 0.9689 - 10s/epoch - 212ms/step\n",
      "Epoch 66/100\n",
      "45/45 - 10s - loss: 0.1229 - accuracy: 0.9555 - val_loss: 0.1853 - val_accuracy: 0.9605 - 10s/epoch - 215ms/step\n"
     ]
    },
    {
     "name": "stdout",
     "output_type": "stream",
     "text": [
      "Epoch 67/100\n",
      "45/45 - 10s - loss: 0.1112 - accuracy: 0.9569 - val_loss: 0.1177 - val_accuracy: 0.9689 - 10s/epoch - 213ms/step\n",
      "Epoch 68/100\n",
      "45/45 - 10s - loss: 0.1186 - accuracy: 0.9569 - val_loss: 0.1432 - val_accuracy: 0.9689 - 10s/epoch - 214ms/step\n",
      "Epoch 69/100\n",
      "45/45 - 10s - loss: 0.1093 - accuracy: 0.9661 - val_loss: 0.2375 - val_accuracy: 0.9407 - 10s/epoch - 214ms/step\n",
      "Epoch 70/100\n",
      "45/45 - 10s - loss: 0.1116 - accuracy: 0.9668 - val_loss: 0.1595 - val_accuracy: 0.9605 - 10s/epoch - 212ms/step\n",
      "Epoch 71/100\n",
      "45/45 - 10s - loss: 0.1160 - accuracy: 0.9618 - val_loss: 0.1545 - val_accuracy: 0.9661 - 10s/epoch - 213ms/step\n",
      "Epoch 72/100\n",
      "45/45 - 10s - loss: 0.0808 - accuracy: 0.9696 - val_loss: 0.1806 - val_accuracy: 0.9605 - 10s/epoch - 212ms/step\n",
      "Epoch 73/100\n",
      "45/45 - 10s - loss: 0.0995 - accuracy: 0.9640 - val_loss: 0.2068 - val_accuracy: 0.9548 - 10s/epoch - 212ms/step\n",
      "Epoch 74/100\n",
      "45/45 - 10s - loss: 0.1760 - accuracy: 0.9477 - val_loss: 0.2327 - val_accuracy: 0.9407 - 10s/epoch - 213ms/step\n",
      "Epoch 75/100\n",
      "45/45 - 10s - loss: 0.1187 - accuracy: 0.9562 - val_loss: 0.1935 - val_accuracy: 0.9576 - 10s/epoch - 214ms/step\n",
      "Epoch 76/100\n",
      "45/45 - 10s - loss: 0.0724 - accuracy: 0.9760 - val_loss: 0.2227 - val_accuracy: 0.9633 - 10s/epoch - 214ms/step\n",
      "Epoch 77/100\n",
      "45/45 - 10s - loss: 0.0962 - accuracy: 0.9717 - val_loss: 0.1768 - val_accuracy: 0.9379 - 10s/epoch - 211ms/step\n",
      "Epoch 78/100\n",
      "45/45 - 10s - loss: 0.1378 - accuracy: 0.9555 - val_loss: 0.1948 - val_accuracy: 0.9492 - 10s/epoch - 212ms/step\n",
      "Epoch 79/100\n",
      "45/45 - 10s - loss: 0.0930 - accuracy: 0.9710 - val_loss: 0.1494 - val_accuracy: 0.9605 - 10s/epoch - 212ms/step\n",
      "Epoch 80/100\n",
      "45/45 - 10s - loss: 0.1117 - accuracy: 0.9569 - val_loss: 0.1573 - val_accuracy: 0.9520 - 10s/epoch - 212ms/step\n",
      "Epoch 81/100\n",
      "45/45 - 10s - loss: 0.1088 - accuracy: 0.9576 - val_loss: 0.2058 - val_accuracy: 0.9548 - 10s/epoch - 213ms/step\n",
      "Epoch 82/100\n",
      "45/45 - 10s - loss: 0.1014 - accuracy: 0.9654 - val_loss: 0.1254 - val_accuracy: 0.9689 - 10s/epoch - 213ms/step\n",
      "Epoch 83/100\n",
      "45/45 - 10s - loss: 0.0769 - accuracy: 0.9760 - val_loss: 0.1469 - val_accuracy: 0.9661 - 10s/epoch - 214ms/step\n",
      "Epoch 84/100\n",
      "45/45 - 10s - loss: 0.1075 - accuracy: 0.9668 - val_loss: 0.1438 - val_accuracy: 0.9718 - 10s/epoch - 213ms/step\n",
      "Epoch 85/100\n",
      "45/45 - 10s - loss: 0.0799 - accuracy: 0.9746 - val_loss: 0.2008 - val_accuracy: 0.9605 - 10s/epoch - 218ms/step\n",
      "Epoch 86/100\n",
      "45/45 - 10s - loss: 0.1416 - accuracy: 0.9647 - val_loss: 0.1808 - val_accuracy: 0.9605 - 10s/epoch - 214ms/step\n",
      "Epoch 87/100\n",
      "45/45 - 10s - loss: 0.0902 - accuracy: 0.9781 - val_loss: 0.2152 - val_accuracy: 0.9661 - 10s/epoch - 216ms/step\n",
      "Epoch 88/100\n",
      "45/45 - 10s - loss: 0.0830 - accuracy: 0.9760 - val_loss: 0.2376 - val_accuracy: 0.9492 - 10s/epoch - 217ms/step\n",
      "Epoch 89/100\n",
      "45/45 - 10s - loss: 0.0667 - accuracy: 0.9809 - val_loss: 0.1789 - val_accuracy: 0.9661 - 10s/epoch - 217ms/step\n",
      "Epoch 90/100\n",
      "45/45 - 10s - loss: 0.0602 - accuracy: 0.9816 - val_loss: 0.2477 - val_accuracy: 0.9322 - 10s/epoch - 216ms/step\n",
      "Epoch 91/100\n",
      "45/45 - 10s - loss: 0.1295 - accuracy: 0.9576 - val_loss: 0.1227 - val_accuracy: 0.9689 - 10s/epoch - 215ms/step\n",
      "Epoch 92/100\n",
      "45/45 - 10s - loss: 0.0768 - accuracy: 0.9781 - val_loss: 0.1422 - val_accuracy: 0.9718 - 10s/epoch - 215ms/step\n",
      "Epoch 93/100\n",
      "45/45 - 10s - loss: 0.1018 - accuracy: 0.9661 - val_loss: 0.2166 - val_accuracy: 0.9520 - 10s/epoch - 214ms/step\n",
      "Epoch 94/100\n",
      "45/45 - 10s - loss: 0.0827 - accuracy: 0.9717 - val_loss: 0.3417 - val_accuracy: 0.9237 - 10s/epoch - 216ms/step\n",
      "Epoch 95/100\n",
      "45/45 - 10s - loss: 0.1011 - accuracy: 0.9689 - val_loss: 0.0975 - val_accuracy: 0.9689 - 10s/epoch - 216ms/step\n",
      "Epoch 96/100\n",
      "45/45 - 10s - loss: 0.0557 - accuracy: 0.9837 - val_loss: 0.1376 - val_accuracy: 0.9605 - 10s/epoch - 217ms/step\n",
      "Epoch 97/100\n",
      "45/45 - 10s - loss: 0.0619 - accuracy: 0.9795 - val_loss: 0.1590 - val_accuracy: 0.9633 - 10s/epoch - 215ms/step\n",
      "Epoch 98/100\n",
      "45/45 - 10s - loss: 0.0498 - accuracy: 0.9830 - val_loss: 0.1995 - val_accuracy: 0.9633 - 10s/epoch - 216ms/step\n",
      "Epoch 99/100\n",
      "45/45 - 10s - loss: 0.0901 - accuracy: 0.9689 - val_loss: 0.1345 - val_accuracy: 0.9774 - 10s/epoch - 214ms/step\n",
      "Epoch 100/100\n",
      "45/45 - 10s - loss: 0.1341 - accuracy: 0.9647 - val_loss: 0.1489 - val_accuracy: 0.9605 - 10s/epoch - 217ms/step\n"
     ]
    }
   ],
   "source": [
    "train_history = model.fit(x = X_train,\n",
    "                          y = y_train,\n",
    "                          validation_split = 0.2,\n",
    "                          verbose = 2,\n",
    "                          epochs = 70)"
   ]
  },
  {
   "cell_type": "code",
   "execution_count": 47,
   "id": "dd5827e5",
   "metadata": {},
   "outputs": [],
   "source": [
    "import matplotlib.pyplot as plt\n",
    "def show_train_history(show_train_value,test_value):\n",
    "    plt.plot(train_history.history[show_train_value])\n",
    "    plt.plot(train_history.history[test_value])\n",
    "    plt.title('Train History')\n",
    "    plt.ylabel(show_train_value)\n",
    "    plt.xlabel('Epoch')\n",
    "    plt.legend(['train', 'test'], loc='upper left')\n",
    "    plt.show()"
   ]
  },
  {
   "cell_type": "code",
   "execution_count": 48,
   "id": "d890137e",
   "metadata": {},
   "outputs": [
    {
     "data": {
      "image/png": "[encoded data removed]",
      "text/plain": [
       "<Figure size 432x288 with 1 Axes>"
      ]
     },
     "metadata": {
      "needs_background": "light"
     },
     "output_type": "display_data"
    },
    {
     "data": {
      "image/png": "[encoded data removed]",
      "text/plain": [
       "<Figure size 432x288 with 1 Axes>"
      ]
     },
     "metadata": {
      "needs_background": "light"
     },
     "output_type": "display_data"
    }
   ],
   "source": [
    "show_train_history('accuracy','val_accuracy')\n",
    "show_train_history('loss','val_loss')"
   ]
  },
  {
   "cell_type": "code",
   "execution_count": 49,
   "id": "56075175",
   "metadata": {},
   "outputs": [
    {
     "name": "stdout",
     "output_type": "stream",
     "text": [
      "24/24 [==============================] - 1s 47ms/step - loss: 0.1369 - accuracy: 0.9605\n"
     ]
    },
    {
     "data": {
      "text/plain": [
       "[0.13693976402282715, 0.9604743123054504]"
      ]
     },
     "execution_count": 49,
     "metadata": {},
     "output_type": "execute_result"
    }
   ],
   "source": [
    "model.evaluate(X_test,y_test)"
   ]
  },
  {
   "cell_type": "code",
   "execution_count": 50,
   "id": "867c3dba",
   "metadata": {},
   "outputs": [],
   "source": [
    "test = pd.read_csv('test.csv')\n",
    "testid = test.ID"
   ]
  },
  {
   "cell_type": "code",
   "execution_count": 51,
   "id": "5eab8121",
   "metadata": {},
   "outputs": [
    {
     "name": "stderr",
     "output_type": "stream",
     "text": [
      "  0%|                                                                                        | 0/10142 [00:00<?, ?it/s]C:\\Users\\HHW\\miniconda3\\lib\\site-packages\\keras_preprocessing\\image\\utils.py:107: UserWarning: grayscale is deprecated. Please use color_mode = \"grayscale\"\n",
      "  warnings.warn('grayscale is deprecated. Please use '\n",
      "100%|███████████████████████████████████████████████████████████████████████████| 10142/10142 [00:36<00:00, 280.53it/s]\n"
     ]
    }
   ],
   "source": [
    "#從image folder取出image\n",
    "test_image = [ ]\n",
    "for i in tqdm(range(test.shape[0])):\n",
    "    img = image.load_img('test_images/'+test['ID'][i], target_size=(100,100,1), \n",
    "            grayscale=True)\n",
    "    img = image.img_to_array(img)\n",
    "    img = img/255\n",
    "    test_image.append(img)"
   ]
  },
  {
   "cell_type": "code",
   "execution_count": 52,
   "id": "6fe429bf",
   "metadata": {},
   "outputs": [
    {
     "data": {
      "text/plain": [
       "array([[[0.7647059 ],\n",
       "        [0.7764706 ],\n",
       "        [0.8117647 ],\n",
       "        ...,\n",
       "        [0.7607843 ],\n",
       "        [0.76862746],\n",
       "        [0.72156864]],\n",
       "\n",
       "       [[0.8392157 ],\n",
       "        [0.8392157 ],\n",
       "        [0.8352941 ],\n",
       "        ...,\n",
       "        [0.7490196 ],\n",
       "        [0.78039217],\n",
       "        [0.77254903]],\n",
       "\n",
       "       [[0.74509805],\n",
       "        [0.73333335],\n",
       "        [0.7254902 ],\n",
       "        ...,\n",
       "        [0.77254903],\n",
       "        [0.77254903],\n",
       "        [0.76862746]],\n",
       "\n",
       "       ...,\n",
       "\n",
       "       [[0.69803923],\n",
       "        [0.80784315],\n",
       "        [0.8509804 ],\n",
       "        ...,\n",
       "        [0.7882353 ],\n",
       "        [0.87058824],\n",
       "        [0.9372549 ]],\n",
       "\n",
       "       [[0.75686276],\n",
       "        [0.9098039 ],\n",
       "        [0.96862745],\n",
       "        ...,\n",
       "        [0.70980394],\n",
       "        [0.7372549 ],\n",
       "        [0.7607843 ]],\n",
       "\n",
       "       [[0.8039216 ],\n",
       "        [0.88235295],\n",
       "        [0.9019608 ],\n",
       "        ...,\n",
       "        [0.6392157 ],\n",
       "        [0.65882355],\n",
       "        [0.6313726 ]]], dtype=float32)"
      ]
     },
     "execution_count": 52,
     "metadata": {},
     "output_type": "execute_result"
    }
   ],
   "source": [
    "test_image[10141]"
   ]
  },
  {
   "cell_type": "code",
   "execution_count": 53,
   "id": "49452ff1",
   "metadata": {},
   "outputs": [],
   "source": [
    "testlabel = np.array(test_image)"
   ]
  },
  {
   "cell_type": "code",
   "execution_count": 54,
   "id": "a26308a2",
   "metadata": {},
   "outputs": [
    {
     "data": {
      "text/plain": [
       "array([[[0.7647059 ],\n",
       "        [0.7764706 ],\n",
       "        [0.8117647 ],\n",
       "        ...,\n",
       "        [0.7607843 ],\n",
       "        [0.76862746],\n",
       "        [0.72156864]],\n",
       "\n",
       "       [[0.8392157 ],\n",
       "        [0.8392157 ],\n",
       "        [0.8352941 ],\n",
       "        ...,\n",
       "        [0.7490196 ],\n",
       "        [0.78039217],\n",
       "        [0.77254903]],\n",
       "\n",
       "       [[0.74509805],\n",
       "        [0.73333335],\n",
       "        [0.7254902 ],\n",
       "        ...,\n",
       "        [0.77254903],\n",
       "        [0.77254903],\n",
       "        [0.76862746]],\n",
       "\n",
       "       ...,\n",
       "\n",
       "       [[0.69803923],\n",
       "        [0.80784315],\n",
       "        [0.8509804 ],\n",
       "        ...,\n",
       "        [0.7882353 ],\n",
       "        [0.87058824],\n",
       "        [0.9372549 ]],\n",
       "\n",
       "       [[0.75686276],\n",
       "        [0.9098039 ],\n",
       "        [0.96862745],\n",
       "        ...,\n",
       "        [0.70980394],\n",
       "        [0.7372549 ],\n",
       "        [0.7607843 ]],\n",
       "\n",
       "       [[0.8039216 ],\n",
       "        [0.88235295],\n",
       "        [0.9019608 ],\n",
       "        ...,\n",
       "        [0.6392157 ],\n",
       "        [0.65882355],\n",
       "        [0.6313726 ]]], dtype=float32)"
      ]
     },
     "execution_count": 54,
     "metadata": {},
     "output_type": "execute_result"
    }
   ],
   "source": [
    "testlabel[10141]"
   ]
  },
  {
   "cell_type": "code",
   "execution_count": 55,
   "id": "7102c80d",
   "metadata": {},
   "outputs": [],
   "source": [
    "result = model.predict(testlabel)"
   ]
  },
  {
   "cell_type": "code",
   "execution_count": 56,
   "id": "f5df3517",
   "metadata": {},
   "outputs": [],
   "source": [
    "result = np.argmax(result , axis=1)"
   ]
  },
  {
   "cell_type": "code",
   "execution_count": 57,
   "id": "1d2d8951",
   "metadata": {},
   "outputs": [],
   "source": [
    "result = pd.Series(result,name=\"Label\")"
   ]
  },
  {
   "cell_type": "code",
   "execution_count": 58,
   "id": "47377d31",
   "metadata": {},
   "outputs": [],
   "source": [
    "submission = pd.concat([testid,result],axis = 1)"
   ]
  },
  {
   "cell_type": "code",
   "execution_count": 59,
   "id": "3bf844d8",
   "metadata": {},
   "outputs": [
    {
     "data": {
      "text/html": [
       "<div>\n",
       "<style scoped>\n",
       "    .dataframe tbody tr th:only-of-type {\n",
       "        vertical-align: middle;\n",
       "    }\n",
       "\n",
       "    .dataframe tbody tr th {\n",
       "        vertical-align: top;\n",
       "    }\n",
       "\n",
       "    .dataframe thead th {\n",
       "        text-align: right;\n",
       "    }\n",
       "</style>\n",
       "<table border=\"1\" class=\"dataframe\">\n",
       "  <thead>\n",
       "    <tr style=\"text-align: right;\">\n",
       "      <th></th>\n",
       "      <th>ID</th>\n",
       "      <th>Label</th>\n",
       "    </tr>\n",
       "  </thead>\n",
       "  <tbody>\n",
       "    <tr>\n",
       "      <th>0</th>\n",
       "      <td>test_00000.png</td>\n",
       "      <td>1</td>\n",
       "    </tr>\n",
       "    <tr>\n",
       "      <th>1</th>\n",
       "      <td>test_00001.png</td>\n",
       "      <td>2</td>\n",
       "    </tr>\n",
       "    <tr>\n",
       "      <th>2</th>\n",
       "      <td>test_00002.png</td>\n",
       "      <td>5</td>\n",
       "    </tr>\n",
       "    <tr>\n",
       "      <th>3</th>\n",
       "      <td>test_00003.png</td>\n",
       "      <td>1</td>\n",
       "    </tr>\n",
       "    <tr>\n",
       "      <th>4</th>\n",
       "      <td>test_00004.png</td>\n",
       "      <td>2</td>\n",
       "    </tr>\n",
       "    <tr>\n",
       "      <th>...</th>\n",
       "      <td>...</td>\n",
       "      <td>...</td>\n",
       "    </tr>\n",
       "    <tr>\n",
       "      <th>10137</th>\n",
       "      <td>test_10137.png</td>\n",
       "      <td>4</td>\n",
       "    </tr>\n",
       "    <tr>\n",
       "      <th>10138</th>\n",
       "      <td>test_10138.png</td>\n",
       "      <td>1</td>\n",
       "    </tr>\n",
       "    <tr>\n",
       "      <th>10139</th>\n",
       "      <td>test_10139.png</td>\n",
       "      <td>1</td>\n",
       "    </tr>\n",
       "    <tr>\n",
       "      <th>10140</th>\n",
       "      <td>test_10140.png</td>\n",
       "      <td>3</td>\n",
       "    </tr>\n",
       "    <tr>\n",
       "      <th>10141</th>\n",
       "      <td>test_10141.png</td>\n",
       "      <td>1</td>\n",
       "    </tr>\n",
       "  </tbody>\n",
       "</table>\n",
       "<p>10142 rows × 2 columns</p>\n",
       "</div>"
      ],
      "text/plain": [
       "                   ID  Label\n",
       "0      test_00000.png      1\n",
       "1      test_00001.png      2\n",
       "2      test_00002.png      5\n",
       "3      test_00003.png      1\n",
       "4      test_00004.png      2\n",
       "...               ...    ...\n",
       "10137  test_10137.png      4\n",
       "10138  test_10138.png      1\n",
       "10139  test_10139.png      1\n",
       "10140  test_10140.png      3\n",
       "10141  test_10141.png      1\n",
       "\n",
       "[10142 rows x 2 columns]"
      ]
     },
     "execution_count": 59,
     "metadata": {},
     "output_type": "execute_result"
    }
   ],
   "source": [
    "submission"
   ]
  },
  {
   "cell_type": "code",
   "execution_count": 60,
   "id": "bb8e2c78",
   "metadata": {},
   "outputs": [],
   "source": [
    "submission.to_csv(\"submission.csv\",index=False)"
   ]
  },
  {
   "cell_type": "code",
   "execution_count": null,
   "id": "d543bf1b",
   "metadata": {},
   "outputs": [],
   "source": []
  }
 ],
 "metadata": {
  "kernelspec": {
   "display_name": "Python 3 (ipykernel)",
   "language": "python",
   "name": "python3"
  },
  "language_info": {
   "codemirror_mode": {
    "name": "ipython",
    "version": 3
   },
   "file_extension": ".py",
   "mimetype": "text/x-python",
   "name": "python",
   "nbconvert_exporter": "python",
   "pygments_lexer": "ipython3",
   "version": "3.8.10"
  }
 },
 "nbformat": 4,
 "nbformat_minor": 5
}
